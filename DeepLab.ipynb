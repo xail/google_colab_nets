{
  "nbformat": 4,
  "nbformat_minor": 0,
  "metadata": {
    "colab": {
      "name": "Untitled0.ipynb",
      "provenance": [],
      "authorship_tag": "ABX9TyPXmlVjvvO792IORUPFS8kN",
      "include_colab_link": true
    },
    "kernelspec": {
      "name": "python3",
      "display_name": "Python 3"
    }
  },
  "cells": [
    {
      "cell_type": "markdown",
      "metadata": {
        "id": "view-in-github",
        "colab_type": "text"
      },
      "source": [
        "<a href=\"https://colab.research.google.com/github/xail/google_colab_nets/blob/master/DeepLab.ipynb\" target=\"_parent\"><img src=\"https://colab.research.google.com/assets/colab-badge.svg\" alt=\"Open In Colab\"/></a>"
      ]
    },
    {
      "cell_type": "markdown",
      "metadata": {
        "id": "ipS2obWquVju",
        "colab_type": "text"
      },
      "source": [
        "Применение [DeepLab](https://towardsdatascience.com/review-deeplabv3-atrous-convolution-semantic-segmentation-6d818bfd1d74) к тестовому датасету."
      ]
    },
    {
      "cell_type": "markdown",
      "metadata": {
        "id": "3hg8CMjuvLoY",
        "colab_type": "text"
      },
      "source": [
        "Стандартная выгрузка датасета."
      ]
    },
    {
      "cell_type": "code",
      "metadata": {
        "id": "Jnek0hTYuSlu",
        "colab_type": "code",
        "colab": {}
      },
      "source": [
        ""
      ],
      "execution_count": null,
      "outputs": []
    },
    {
      "cell_type": "markdown",
      "metadata": {
        "id": "BwRw4jQJuUBu",
        "colab_type": "text"
      },
      "source": [
        "Загрузка модели и обучение."
      ]
    }
  ]
}